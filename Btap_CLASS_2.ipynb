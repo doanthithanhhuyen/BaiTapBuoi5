{
 "cells": [
  {
   "cell_type": "code",
   "execution_count": 22,
   "id": "404efc5f",
   "metadata": {},
   "outputs": [],
   "source": [
    "#Bài 1: Định nghĩa lớp số phức gồm 2 thành phần: thực a và ảo b. \n",
    "#Các phương thức in số phức và tính module của số phức (module = sqrt(a^2+b^2). \n",
    "#Khai báo 1 list gồm 100 số phức. Tìm số phức có module nhỏ nhất, lớn nhất\n",
    "\n",
    "import math\n",
    "class Sophuc:\n",
    "    #\n",
    "    def __init__(self, a, b):\n",
    "        self.a = a\n",
    "        self.b = b\n",
    "        \n",
    "    def module(self):\n",
    "        return math.sqrt(self.a**2+self.b**2)\n",
    "\n",
    "    "
   ]
  },
  {
   "cell_type": "code",
   "execution_count": 40,
   "id": "92f09dda",
   "metadata": {},
   "outputs": [
    {
     "name": "stdout",
     "output_type": "stream",
     "text": [
      "[72.86288492778748, 72.86288492778748, 72.86288492778748, 72.86288492778748, 72.86288492778748, 72.86288492778748, 72.86288492778748, 72.86288492778748, 72.86288492778748, 72.86288492778748, 72.86288492778748, 72.86288492778748, 72.86288492778748, 72.86288492778748, 72.86288492778748, 72.86288492778748, 72.86288492778748, 72.86288492778748, 72.86288492778748, 72.86288492778748, 72.86288492778748, 72.86288492778748, 72.86288492778748, 72.86288492778748, 72.86288492778748, 72.86288492778748, 72.86288492778748, 72.86288492778748, 72.86288492778748, 72.86288492778748, 72.86288492778748, 72.86288492778748, 72.86288492778748, 72.86288492778748, 72.86288492778748, 72.86288492778748, 72.86288492778748, 72.86288492778748, 72.86288492778748, 72.86288492778748, 72.86288492778748, 72.86288492778748, 72.86288492778748, 72.86288492778748, 72.86288492778748, 72.86288492778748, 72.86288492778748, 72.86288492778748, 72.86288492778748, 72.86288492778748, 72.86288492778748, 72.86288492778748, 72.86288492778748, 72.86288492778748, 72.86288492778748, 72.86288492778748, 72.86288492778748, 72.86288492778748, 72.86288492778748, 72.86288492778748, 72.86288492778748, 72.86288492778748, 72.86288492778748, 72.86288492778748, 72.86288492778748, 72.86288492778748, 72.86288492778748, 72.86288492778748, 72.86288492778748, 72.86288492778748, 72.86288492778748, 72.86288492778748, 72.86288492778748, 72.86288492778748, 72.86288492778748, 72.86288492778748, 72.86288492778748, 72.86288492778748, 72.86288492778748, 72.86288492778748, 72.86288492778748, 72.86288492778748, 72.86288492778748, 72.86288492778748, 72.86288492778748, 72.86288492778748, 72.86288492778748, 72.86288492778748, 72.86288492778748, 72.86288492778748, 72.86288492778748, 72.86288492778748, 72.86288492778748, 72.86288492778748, 72.86288492778748, 72.86288492778748, 72.86288492778748, 72.86288492778748, 72.86288492778748, 72.86288492778748]\n",
      "72.86288492778748\n",
      "72.86288492778748\n"
     ]
    }
   ],
   "source": [
    "import math\n",
    "import random\n",
    "\n",
    "so_phuc = []\n",
    "p_rd = [i for i in range(100)]\n",
    "for i in range(100):\n",
    "    a = random.choice(p_rd)\n",
    "    b = random.choice(p_rd)\n",
    "    sophuc = Sophuc(a,b)\n",
    "    so_phuc.append(sophuc)\n",
    "\n",
    "modules = []\n",
    "for i in so_phuc:\n",
    "    kq = sophuc.module()\n",
    "    modules.append(kq)\n",
    "\n",
    "\n",
    "for i in modules:\n",
    "    sp_max = modules[int(i)]\n",
    "    if modules[int(i+1)] > modules[int(i)]:\n",
    "        sp_max = modules[int(i+1)]\n",
    "    else:\n",
    "        sp_max = modules[int(i)]\n",
    "        \n",
    "for i in modules:\n",
    "    sp_min = modules[int(i)]\n",
    "    if modules[int(i+1)] < modules[int(i)]:\n",
    "        sp_min = modules[int(i+1)]\n",
    "    else:\n",
    "        sp_min = modules[int(i)]\n",
    "\n",
    "#print(so_phuc)\n",
    "print(modules)\n",
    "print(sp_max)\n",
    "print(sp_min)\n"
   ]
  },
  {
   "cell_type": "code",
   "execution_count": 37,
   "id": "554e36bc",
   "metadata": {},
   "outputs": [],
   "source": [
    "#Bài 2: Định nghĩa lớp sinh viên Student gồm các thông tin: mã sinh viên, họ tên, ngày sinh, quê quán. \n",
    "#Phương thức info để in thông tin của sinh viên ra màn hình. \n",
    "#Định nghĩa lớp danh sách sinh viên ListStudent thuộc tính là một list Student vừa định nghĩa ở trên. \n",
    "#Các phương thức thêm sinh viên mới, cập nhật thông tin sinh viên theo mã sinh viên, \n",
    "#xoá sinh viên trong list, tìm kiếm thông tin theo mã, in toàn bộ danh sách sinh viên ra màn hình. \n",
    "#(Bài này suy nghĩ, tư duy, cố làm...)\n",
    "\n"
   ]
  },
  {
   "cell_type": "code",
   "execution_count": null,
   "id": "2dd6ebb9",
   "metadata": {},
   "outputs": [],
   "source": [
    "#Bài 3: Định nghĩa lớp phân số gồm 2 thành phần tử số và mẫu số. \n",
    "#Các phương thức in số phức, so sánh hai phân số, phương thức tính tổng, tích, hiệu, thương của hai phân số. \n",
    "#Khai báo 1 list gồm 100 phân số. Tìm phân số lớn nhất, nhỏ nhất, sắp xếp list theo thứ tự tăng dần, giảm dần....\n",
    "\n"
   ]
  }
 ],
 "metadata": {
  "kernelspec": {
   "display_name": "Python 3 (ipykernel)",
   "language": "python",
   "name": "python3"
  },
  "language_info": {
   "codemirror_mode": {
    "name": "ipython",
    "version": 3
   },
   "file_extension": ".py",
   "mimetype": "text/x-python",
   "name": "python",
   "nbconvert_exporter": "python",
   "pygments_lexer": "ipython3",
   "version": "3.9.7"
  }
 },
 "nbformat": 4,
 "nbformat_minor": 5
}
