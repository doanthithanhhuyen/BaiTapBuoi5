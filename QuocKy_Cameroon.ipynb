{
 "cells": [
  {
   "cell_type": "code",
   "execution_count": null,
   "id": "322d0bcb",
   "metadata": {
    "scrolled": true
   },
   "outputs": [],
   "source": [
    "import turtle\n",
    "tl = turtle.Turtle()\n",
    "tl.shape(\"turtle\")\n",
    "tl.penup()\n",
    "tl.goto(-120,-70)\n",
    "tl.pendown()\n",
    "tl.forward(300)\n",
    "tl.left(90)\n",
    "tl.forward(200)\n",
    "tl.left(90)\n",
    "tl.forward(300)\n",
    "tl.fillcolor('green')\n",
    "tl.begin_fill()\n",
    "tl.left(90)\n",
    "tl.forward(200)\n",
    "tl.left(90)\n",
    "tl.penup()\n",
    "tl.forward(100)\n",
    "tl.left(90)\n",
    "tl.pendown()\n",
    "tl.forward(200)\n",
    "tl.end_fill()\n",
    "tl.fillcolor('red')\n",
    "tl.begin_fill()\n",
    "tl.right(180)\n",
    "tl.penup()\n",
    "tl.forward(200)\n",
    "tl.left(90)\n",
    "tl.forward(100)\n",
    "tl.pendown()\n",
    "tl.left(90)\n",
    "tl.forward(200)\n",
    "tl.end_fill()\n",
    "tl.fillcolor('yellow')\n",
    "tl.begin_fill()\n",
    "tl.penup()\n",
    "tl.right(90)\n",
    "tl.forward(100)\n",
    "tl.right(90)\n",
    "tl.forward(200)\n",
    "tl.right(90)\n",
    "tl.forward(100)\n",
    "tl.end_fill()\n",
    "tl.right(90)\n",
    "tl.forward(95)\n",
    "tl.left(90)\n",
    "tl.forward(25)\n",
    "tl.pendown()\n",
    "tl.pencolor('yellow')\n",
    "tl.fillcolor('yellow')\n",
    "tl.begin_fill()\n",
    "tl.forward(50)\n",
    "tl.left(36)\n",
    "tl.backward(50)\n",
    "tl.right(144)\n",
    "tl.backward(50)\n",
    "tl.left(36)\n",
    "tl.forward(50)\n",
    "tl.left(36)\n",
    "tl.backward(50)\n",
    "tl.end_fill()\n",
    "turtle.done()\n"
   ]
  },
  {
   "cell_type": "code",
   "execution_count": null,
   "id": "dbbfa782",
   "metadata": {},
   "outputs": [],
   "source": []
  }
 ],
 "metadata": {
  "kernelspec": {
   "display_name": "Python 3 (ipykernel)",
   "language": "python",
   "name": "python3"
  },
  "language_info": {
   "codemirror_mode": {
    "name": "ipython",
    "version": 3
   },
   "file_extension": ".py",
   "mimetype": "text/x-python",
   "name": "python",
   "nbconvert_exporter": "python",
   "pygments_lexer": "ipython3",
   "version": "3.9.7"
  }
 },
 "nbformat": 4,
 "nbformat_minor": 5
}
