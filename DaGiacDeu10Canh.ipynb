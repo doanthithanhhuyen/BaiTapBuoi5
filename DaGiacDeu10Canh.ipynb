{
 "cells": [
  {
   "cell_type": "code",
   "execution_count": null,
   "id": "8df7bfcc",
   "metadata": {},
   "outputs": [],
   "source": [
    "import turtle\n",
    "tl = turtle.Turtle()\n",
    "tl.shape(\"turtle\")\n",
    "tl.penup()\n",
    "tl.goto(0,70)\n",
    "tl.pendown()\n",
    "tl.fillcolor('pink')\n",
    "tl.begin_fill()\n",
    "tl.forward(60)\n",
    "tl.right(36)\n",
    "tl.forward(60)\n",
    "tl.right(36)\n",
    "tl.forward(60)\n",
    "tl.right(36)\n",
    "tl.forward(60)\n",
    "tl.right(36)\n",
    "tl.forward(60)\n",
    "tl.right(36)\n",
    "tl.forward(60)\n",
    "tl.right(36)\n",
    "tl.forward(60)\n",
    "tl.right(36)\n",
    "tl.forward(60)\n",
    "tl.right(36)\n",
    "tl.forward(60)\n",
    "tl.right(36)\n",
    "tl.forward(60)\n",
    "tl.right(36)\n",
    "tl.end_fill()\n",
    "turtle.done()"
   ]
  },
  {
   "cell_type": "code",
   "execution_count": null,
   "id": "88f81b8b",
   "metadata": {},
   "outputs": [],
   "source": []
  }
 ],
 "metadata": {
  "kernelspec": {
   "display_name": "Python 3 (ipykernel)",
   "language": "python",
   "name": "python3"
  },
  "language_info": {
   "codemirror_mode": {
    "name": "ipython",
    "version": 3
   },
   "file_extension": ".py",
   "mimetype": "text/x-python",
   "name": "python",
   "nbconvert_exporter": "python",
   "pygments_lexer": "ipython3",
   "version": "3.9.7"
  }
 },
 "nbformat": 4,
 "nbformat_minor": 5
}
